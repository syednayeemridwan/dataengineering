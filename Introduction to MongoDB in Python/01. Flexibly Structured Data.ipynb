{
 "cells": [
  {
   "cell_type": "markdown",
   "metadata": {},
   "source": [
    "- Count number of documents"
   ]
  },
  {
   "cell_type": "code",
   "execution_count": 1,
   "metadata": {},
   "outputs": [],
   "source": [
    "# from pymongo import MongoClient\n",
    "# client = MongoClient()\n",
    "# nobel = client.nobel\n",
    "# filter = {}\n",
    "# print(nobel.prizes.count_documents(filter))\n",
    "\n"
   ]
  },
  {
   "cell_type": "markdown",
   "metadata": {},
   "source": [
    "- Save a list, called db_names, of the names of the databases managed by our connected client.\n",
    "- Similarly, save a list, called nobel_coll_names, of the names of the collections managed by the \"nobel\" database."
   ]
  },
  {
   "cell_type": "code",
   "execution_count": 2,
   "metadata": {},
   "outputs": [],
   "source": [
    "# # Save a list of names of the databases managed by client\n",
    "# db_names = client.list_database_names()\n",
    "# print(db_names)\n",
    "\n",
    "# # Save a list of names of the collections managed by the \"nobel\" database\n",
    "# nobel_coll_names = client.nobel.list_collection_names()\n",
    "# print(nobel_coll_names)"
   ]
  },
  {
   "cell_type": "markdown",
   "metadata": {},
   "source": [
    "- Connect to the nobel database.\n",
    "- Fetch one document from each of the prizes and laureates collections, and then take a look at the output in the console to see the format and type of the documents in Python.\n",
    "- Since prize and laureate are dictionaries, you can use the .keys() method to return the keys (i.e. the field names). But it's often more convenient to work with lists of fields.\n",
    "- Use the list() constructor to save a list of the fields present in the prize and laureate documents."
   ]
  },
  {
   "cell_type": "code",
   "execution_count": 3,
   "metadata": {},
   "outputs": [],
   "source": [
    "# # Connect to the \"nobel\" database\n",
    "# db = client.nobel\n",
    "\n",
    "# # Retrieve sample prize and laureate documents\n",
    "# prize = db.prizes.find_one()\n",
    "# laureate = db.laureates.find_one()\n",
    "\n",
    "# # Print the sample prize and laureate documents\n",
    "# print(prize)\n",
    "# print(laureate)\n",
    "# print(type(laureate))\n",
    "\n",
    "# # Get the fields present in each type of document\n",
    "# prize_fields = list(prize.keys())\n",
    "# laureate_fields = list(laureate.keys())\n",
    "\n",
    "# print(prize_fields)\n",
    "# print(laureate_fields)"
   ]
  },
  {
   "cell_type": "markdown",
   "metadata": {},
   "source": [
    "- returns the number of laureates with recorded dates of birth earlier than the year 1900 (\"$lt\" is for \"less than\"). Using the query format above, what is the number of laureates born prior to 1800? What about prior to 1700?"
   ]
  },
  {
   "cell_type": "code",
   "execution_count": 4,
   "metadata": {},
   "outputs": [],
   "source": [
    "# filter1 = { \"born\" : { \"$lt\": \"1800\" }}\n",
    "# filter2 = { \"born\" : { \"$lt\": \"1700\" }}\n",
    "# db.laureates.count_documents(filter1)\n",
    "# db.laureates.count_documents(filter2)"
   ]
  },
  {
   "cell_type": "markdown",
   "metadata": {},
   "source": [
    "- Create a filter criteria to count laureates who died (\"diedCountry\") in the USA (\"USA\"). Save the document count as count."
   ]
  },
  {
   "cell_type": "code",
   "execution_count": 5,
   "metadata": {},
   "outputs": [],
   "source": [
    "# # Create a filter for laureates who died in the USA\n",
    "# criteria = {\"diedCountry\": \"USA\"}\n",
    "\n",
    "# # Save the count of these laureates\n",
    "# count = db.laureates.count_documents(criteria)\n",
    "# print(count)"
   ]
  },
  {
   "cell_type": "markdown",
   "metadata": {},
   "source": [
    "- Create a filter to count laureates who died in the United States but were born (\"bornCountry\") in Germany."
   ]
  },
  {
   "cell_type": "code",
   "execution_count": 6,
   "metadata": {},
   "outputs": [],
   "source": [
    "# # Create a filter for laureates who died in the USA but were born in Germany\n",
    "# criteria = {\"diedCountry\": \"USA\", \n",
    "#             \"bornCountry\": \"Germany\"}\n",
    "\n",
    "\n",
    "# # Save the count\n",
    "# count = db.laureates.count_documents(criteria)\n",
    "# print(count)"
   ]
  },
  {
   "cell_type": "markdown",
   "metadata": {},
   "source": [
    "- Count laureates who died in the USA, were born in Germany, and whose first name (\"firstname\") was \"Albert\"."
   ]
  },
  {
   "cell_type": "code",
   "execution_count": 7,
   "metadata": {},
   "outputs": [],
   "source": [
    "# # Create a filter for Germany-born laureates who died in the USA and with the first name \"Albert\"\n",
    "# criteria = {\"diedCountry\": \"USA\", \n",
    "#             \"bornCountry\": \"Germany\", \n",
    "#             \"firstname\": \"Albert\"}\n",
    "\n",
    "# # Save the count\n",
    "# count = db.laureates.count_documents(criteria)\n",
    "# print(count)\n",
    "\n",
    "\n"
   ]
  },
  {
   "cell_type": "markdown",
   "metadata": {},
   "source": [
    "- How many laureates were born in \"USA\", \"Canada\", or \"Mexico\"? Save a filter as criteria and your count as count."
   ]
  },
  {
   "cell_type": "code",
   "execution_count": 8,
   "metadata": {},
   "outputs": [],
   "source": [
    "# # Save a filter for laureates born in the USA, Canada, or Mexico\n",
    "# criteria = { \"bornCountry\": \n",
    "#                 { \"$in\": [ \"USA\", \"Canada\", \"Mexico\"]}\n",
    "#              }\n",
    "\n",
    "# # Count them and save the count\n",
    "# count = db.laureates.count_documents(criteria)\n",
    "# print(count)"
   ]
  },
  {
   "cell_type": "markdown",
   "metadata": {},
   "source": [
    "- How many laureates died in the USA but were not born there? Save your filter as criteria and your count as count."
   ]
  },
  {
   "cell_type": "code",
   "execution_count": 10,
   "metadata": {},
   "outputs": [],
   "source": [
    "# # Save a filter for laureates who died in the USA and were not born there\n",
    "# criteria = { \"diedCountry\": \"USA\",\n",
    "#                \"bornCountry\": { \"$ne\": \"USA\"}, \n",
    "#              }\n",
    "\n",
    "# # Count them\n",
    "# count = db.laureates.count_documents(criteria)\n",
    "# print(count)"
   ]
  },
  {
   "cell_type": "markdown",
   "metadata": {},
   "source": [
    "- We saw from his laureate document that Walter Kohn's country of birth was \"Austria\" and that his prize affiliation country was \"USA\". If we want to count the number of laureates born in Austria with a prize affiliation country that is not also Austria, what MongoDB concepts/tools should we use?"
   ]
  },
  {
   "cell_type": "code",
   "execution_count": 12,
   "metadata": {},
   "outputs": [],
   "source": [
    "# filter = {\n",
    "#     \"bornCountry\": \"Austria\", \n",
    "#     \"prizes.affiliations.country\" :{ \"$ne\" :\"Austria\"}\n",
    "# }\n",
    "# db.laureates.count_documents(filter)"
   ]
  },
  {
   "cell_type": "markdown",
   "metadata": {},
   "source": [
    "- Save a filter criteria for laureates born in (bornCountry) \"Austria\" with a non-Austria prizes.affiliations.country."
   ]
  },
  {
   "cell_type": "code",
   "execution_count": 13,
   "metadata": {},
   "outputs": [],
   "source": [
    "# # Filter for laureates born in Austria with non-Austria prize affiliation\n",
    "# criteria = {\"bornCountry\": \"Austria\", \n",
    "#               \"prizes.affiliations.country\": {\"$ne\": \"Austria\"}}\n",
    "\n",
    "# # Count the number of such laureates\n",
    "# count = db.laureates.count_documents(criteria)\n",
    "# print(count)"
   ]
  },
  {
   "cell_type": "markdown",
   "metadata": {},
   "source": [
    "- Use a filter document (criteria) to count the documents that don't have a \"born\" field."
   ]
  },
  {
   "cell_type": "code",
   "execution_count": 14,
   "metadata": {},
   "outputs": [],
   "source": [
    "# # Filter for documents without a \"born\" field\n",
    "# criteria = {\"born\": {\"$exists\": False}}\n",
    "\n",
    "# # Save count\n",
    "# count = db.laureates.count_documents(criteria)\n",
    "# print(count)"
   ]
  },
  {
   "cell_type": "markdown",
   "metadata": {},
   "source": [
    "- Use a filter document (criteria) to find a document for a laureate with at least three elements in its \"prizes\" array. In other words, does a third element exist for the array? Remember about the zero-based indexing!"
   ]
  },
  {
   "cell_type": "code",
   "execution_count": 15,
   "metadata": {},
   "outputs": [],
   "source": [
    "# # Filter for laureates with at least three prizes\n",
    "# criteria = {\"prizes.2\": {\"$exists\": True}}\n",
    "\n",
    "# # Find one laureate with at least three prizes\n",
    "# doc = db.laureates.find_one(criteria)\n",
    "\n",
    "# # Print the document\n",
    "# print(doc)"
   ]
  }
 ],
 "metadata": {
  "interpreter": {
   "hash": "1e949e87132dd83f1a7623eb88007e3532b03b66b77111be347aa4a383049722"
  },
  "kernelspec": {
   "display_name": "Python 3.8.11 ('env_py')",
   "language": "python",
   "name": "python3"
  },
  "language_info": {
   "codemirror_mode": {
    "name": "ipython",
    "version": 3
   },
   "file_extension": ".py",
   "mimetype": "text/x-python",
   "name": "python",
   "nbconvert_exporter": "python",
   "pygments_lexer": "ipython3",
   "version": "3.8.11"
  },
  "orig_nbformat": 4
 },
 "nbformat": 4,
 "nbformat_minor": 2
}
