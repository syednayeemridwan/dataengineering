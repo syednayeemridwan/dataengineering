{
 "cells": [
  {
   "cell_type": "markdown",
   "metadata": {},
   "source": [
    "You want to examine the laureates of the 1903 prize in physics and how they split the prize. Here is a query without projection:\n",
    "```\n",
    "db.laureates.find_one({\"prizes\": {\"$elemMatch\": {\"category\": \"physics\", \"year\": \"1903\"}}})\n",
    "```\n",
    "- Which projection(s) will fetch ONLY the laureates' full names and prize share info?"
   ]
  },
  {
   "cell_type": "code",
   "execution_count": 1,
   "metadata": {},
   "outputs": [],
   "source": [
    "# filter = {\"prizes\": {\"$elemMatch\": {\"category\": \"physics\", \"year\": \"1903\"}}}\n",
    "# projection = {\"firstname\": 1, \"surname\": 1, \"prizes.share\": 1, \"_id\": 0}\n",
    "\n",
    "# db.laureates.find_one(filter, projection)"
   ]
  },
  {
   "cell_type": "markdown",
   "metadata": {},
   "source": [
    "- First, use regular expressions to fetch the documents for the laureates whose \"firstname\" starts with \"G\" and whose \"surname\" starts with \"S\"."
   ]
  },
  {
   "cell_type": "code",
   "execution_count": 2,
   "metadata": {},
   "outputs": [],
   "source": [
    "# # Find laureates whose first name starts with \"G\" and last name starts with \"S\"\n",
    "# docs = db.laureates.find(\n",
    "#        filter= {\"firstname\" : {\"$regex\" : \"^G\"},\n",
    "#                   \"surname\" : {\"$regex\" : \"^S\"}  })\n",
    "# # Print the first document \n",
    "# print(docs[0])"
   ]
  },
  {
   "cell_type": "markdown",
   "metadata": {},
   "source": [
    "In the previous step, we fetched all the data for all the laureates with initials G.S. This is unnecessary if we only want their full names!\n",
    "- Use projection and adjust the query to select only the \"firstname\" and \"surname\" fields."
   ]
  },
  {
   "cell_type": "code",
   "execution_count": 3,
   "metadata": {},
   "outputs": [],
   "source": [
    "# # Use projection to select only firstname and surname\n",
    "# docs = db.laureates.find(\n",
    "#         filter= {\"firstname\" : {\"$regex\" : \"^G\"},\n",
    "#                  \"surname\" : {\"$regex\" : \"^S\"}  },\n",
    "# \tprojection= {\n",
    "#                 \"firstname\" : 1,\n",
    "#                 \"surname\" : 1,\n",
    "#                 \"_id\" : 0\n",
    "#         }  )\n",
    "\n",
    "# # Print the first document \n",
    "# print(docs[0])"
   ]
  },
  {
   "cell_type": "markdown",
   "metadata": {},
   "source": [
    "Now the documents you fetched contain only the relevant information!\n",
    "\n",
    "- Iterate over the documents, and for each document, concatenate the first name and the surname fields together with a space in between to obtain full names."
   ]
  },
  {
   "cell_type": "code",
   "execution_count": 4,
   "metadata": {},
   "outputs": [],
   "source": [
    "# # Use projection to select only firstname and surname\n",
    "# docs = db.laureates.find(\n",
    "#        filter= {\"firstname\" : {\"$regex\" : \"^G\"},\n",
    "#                 \"surname\" : {\"$regex\" : \"^S\"}  },\n",
    "#    projection= [\"firstname\", \"surname\"]  )\n",
    "\n",
    "# # Iterate over docs and concatenate first name and surname\n",
    "# full_names = [doc[\"firstname\"] + \" \" + doc[\"surname\"]  for doc in docs]\n",
    "\n",
    "# # Print the full names\n",
    "# print(full_names)"
   ]
  },
  {
   "cell_type": "markdown",
   "metadata": {},
   "source": [
    "- Save a list of prizes (prizes), projecting out only the \"laureates.share\" values for each prize.\n",
    "- For each prize, compute the total share as follows:\n",
    "- Initialize the variable total_share to 0.\n",
    "- Iterate over the laureates for each prize, converting the \"share\" field of the \"laureate\" to float and adding the reciprocal of it (that is, 1 divided by it) to total_share."
   ]
  },
  {
   "cell_type": "code",
   "execution_count": 5,
   "metadata": {},
   "outputs": [],
   "source": [
    "# # Save documents, projecting out laureates share\n",
    "# prizes = db.prizes.find({}, [\"laureates.share\"])\n",
    "\n",
    "# # Iterate over prizes\n",
    "# for prize in prizes:\n",
    "#     # Initialize total share\n",
    "#     total_share = 0\n",
    "    \n",
    "#     # Iterate over laureates for the prize\n",
    "#     for laureate in prize[\"laureates\"]:\n",
    "#         # add the share of the laureate to total_share\n",
    "#         total_share += 1 / float(laureate[\"share\"])\n",
    "        \n",
    "#     # Print the total share    \n",
    "#     print(total_share)    "
   ]
  },
  {
   "cell_type": "markdown",
   "metadata": {},
   "source": [
    "This block prints out the first five projections of a sorted query. What \"sort\" argument fills the blank?\n",
    "```\n",
    "docs = list(db.laureates.find(\n",
    "    {\"born\": {\"$gte\": \"1900\"}, \"prizes.year\": {\"$gte\": \"1954\"}},\n",
    "    {\"born\": 1, \"prizes.year\": 1, \"_id\": 0},\n",
    "    sort=____))\n",
    "for doc in docs[:5]:\n",
    "    print(doc)\n",
    "```    "
   ]
  },
  {
   "cell_type": "code",
   "execution_count": 6,
   "metadata": {},
   "outputs": [],
   "source": [
    "# [(\"prizes.year\", 1), (\"born\", -1)]"
   ]
  },
  {
   "cell_type": "markdown",
   "metadata": {},
   "source": [
    "- Complete the definition of all_laureates(prize). Within the body of the function:\n",
    "- Sort the \"laureates\" list of the prize document according to the \"surname\" key.\n",
    "- For each of the laureates in the sorted list, extract the \"surname\" field.\n",
    "- The code for joining the last names into a single string is already written for you.\n",
    "- Take a look at the console to make sure the output looks like what you'd expect!"
   ]
  },
  {
   "cell_type": "code",
   "execution_count": 7,
   "metadata": {},
   "outputs": [],
   "source": [
    "# from operator import itemgetter\n",
    "\n",
    "# def all_laureates(prize):  \n",
    "#   # sort the laureates by surname\n",
    "#   sorted_laureates = sorted(prize[\"laureates\"], key=itemgetter(\"surname\"))\n",
    "  \n",
    "#   # extract surnames\n",
    "#   surnames = [laureate[\"surname\"] for laureate in sorted_laureates]\n",
    "  \n",
    "#   # concatenate surnames separated with \" and \" \n",
    "#   all_names = \" and \".join(surnames)\n",
    "  \n",
    "#   return all_names\n",
    "\n",
    "# # test the function on a sample doc\n",
    "# print(all_laureates(sample_prize))"
   ]
  },
  {
   "cell_type": "markdown",
   "metadata": {},
   "source": [
    "- Find the documents for the prizes in the physics category, sort them in chronological order (by \"year\", ascending), and only fetch the \"year\", \"laureates.firstname\", and \"laureates.surname\" fields."
   ]
  },
  {
   "cell_type": "code",
   "execution_count": 8,
   "metadata": {},
   "outputs": [],
   "source": [
    "# from operator import itemgetter\n",
    "\n",
    "# def all_laureates(prize):  \n",
    "#   # sort the laureates by surname\n",
    "#   sorted_laureates = sorted(prize[\"laureates\"], key=itemgetter(\"surname\"))\n",
    "  \n",
    "#   # extract surnames\n",
    "#   surnames = [laureate[\"surname\"] for laureate in sorted_laureates]\n",
    "  \n",
    "#   # concatenate surnames separated with \" and \" \n",
    "#   all_names = \" and \".join(surnames)\n",
    "  \n",
    "#   return all_names\n",
    "\n",
    "# # find physics prizes, project year and first and last name, and sort by year\n",
    "# docs = db.prizes.find(\n",
    "#            filter= {'category': 'physics' }, \n",
    "#            projection= ['year', 'laureates.firstname',\n",
    "#            'laureates.surname'], \n",
    "#            sort= [(\"year\", 1)])"
   ]
  },
  {
   "cell_type": "markdown",
   "metadata": {},
   "source": [
    "- Now that you have the prizes, and the function to extract laureates from a prize, print the year and the names of the laureates (use your all_laureates() function) for each prize document."
   ]
  },
  {
   "cell_type": "code",
   "execution_count": 9,
   "metadata": {},
   "outputs": [],
   "source": [
    "# from operator import itemgetter\n",
    "\n",
    "# def all_laureates(prize):  \n",
    "#   # sort the laureates by surname\n",
    "#   sorted_laureates = sorted(prize[\"laureates\"], key=itemgetter(\"surname\"))\n",
    "  \n",
    "#   # extract surnames\n",
    "#   surnames = [laureate[\"surname\"] for laureate in sorted_laureates]\n",
    "  \n",
    "#   # concatenate surnames separated with \" and \" \n",
    "#   all_names = \" and \".join(surnames)\n",
    "  \n",
    "#   return all_names\n",
    "\n",
    "# # find physics prizes, project year and name, and sort by year\n",
    "# docs = db.prizes.find(\n",
    "#            filter= {\"category\": \"physics\"}, \n",
    "#            projection= [\"year\", \"laureates.firstname\", \"laureates.surname\"], \n",
    "#            sort= [(\"year\", 1)])\n",
    "\n",
    "# # print the year and laureate names (from all_laureates)\n",
    "# for doc in docs:\n",
    "#   print(\"{year}: {names}\".format(year=doc[\"year\"], names=all_laureates(doc)))"
   ]
  },
  {
   "cell_type": "markdown",
   "metadata": {},
   "source": [
    "- Find the original prize categories established in 1901 by looking at the distinct values of the \"category\" field for prizes from year 1901.\n",
    "- Fetch ONLY the year and category from all the documents (without the \"_id\" field).\n",
    "- Sort by \"year\" in descending order, then by \"category\" in ascending order."
   ]
  },
  {
   "cell_type": "code",
   "execution_count": 10,
   "metadata": {},
   "outputs": [],
   "source": [
    "# # original categories from 1901\n",
    "# original_categories = db.prizes.distinct('category', {'year': '1901'})\n",
    "# print(original_categories)\n",
    "\n",
    "# # project year and category, and sort\n",
    "# docs = db.prizes.find(\n",
    "#         filter={},\n",
    "#         projection = {'year':1 , 'category':1, '_id':0},\n",
    "#         sort=[('year', -1),('category', 1)]\n",
    "# )\n",
    "\n",
    "# #print the documents\n",
    "# for doc in docs:\n",
    "#   print(doc)"
   ]
  },
  {
   "cell_type": "markdown",
   "metadata": {},
   "source": [
    "Which of the following indexes is best suited to speeding up the operation db.prizes.distinct(\"category\", {\"laureates.share\": {\"$gt\": \"3\"}})?\n",
    "- `[(\"laureates.share\", 1), (\"category\", 1)]` For a distinct query the filter argument is passed as a second argument, whereas the projected field is passed first."
   ]
  },
  {
   "cell_type": "markdown",
   "metadata": {},
   "source": [
    "- Specify an index model that indexes first on category (ascending) and second on year (descending).\n",
    "- Save a string report for printing the last single-laureate year for each distinct category, one category per line. To do this, for each distinct prize category, find the latest-year prize (requiring a descending sort by year) of that category (so, find matches for that category) with a laureate share of \"1\"."
   ]
  },
  {
   "cell_type": "code",
   "execution_count": 11,
   "metadata": {},
   "outputs": [],
   "source": [
    "# # Specify an index model for compound sorting\n",
    "# index_model = [('category', 1), ('year', -1)]\n",
    "# db.prizes.create_index(index_model)\n",
    "\n",
    "# # Collect the last single-laureate year for each category\n",
    "# report = \"\"\n",
    "# for category in sorted(db.prizes.distinct(\"category\")):\n",
    "#     doc = db.prizes.find_one(\n",
    "#         {'category': category, \"laureates.share\": \"1\"},\n",
    "#         sort=[('year', -1)]\n",
    "#     )\n",
    "#     report += \"{category}: {year}\\n\".format(**doc)\n",
    "\n",
    "# print(report)"
   ]
  },
  {
   "cell_type": "markdown",
   "metadata": {},
   "source": [
    "- Create an index on country of birth (\"bornCountry\") for db.laureates to ensure efficient gathering of distinct values and counting of documents\n",
    "- Complete the skeleton dictionary comprehension to construct n_born_and_affiliated, the count of laureates as described above for each distinct country of birth. For each call to count_documents, ensure that you use the value of country to filter documents properly."
   ]
  },
  {
   "cell_type": "code",
   "execution_count": 12,
   "metadata": {},
   "outputs": [],
   "source": [
    "# from collections import Counter\n",
    "\n",
    "# # Ensure an index on country of birth\n",
    "# db.laureates.create_index([('bornCountry', 1)])\n",
    "\n",
    "# # Collect a count of laureates for each country of birth\n",
    "# n_born_and_affiliated = {\n",
    "#     country: db.laureates.count_documents({\n",
    "#         'bornCountry': country,\n",
    "#         \"prizes.affiliations.country\": country\n",
    "#     })\n",
    "#     for country in db.laureates.distinct(\"bornCountry\")\n",
    "# }\n",
    "\n",
    "# five_most_common = Counter(n_born_and_affiliated).most_common(5)\n",
    "# print(five_most_common)"
   ]
  },
  {
   "cell_type": "markdown",
   "metadata": {},
   "source": [
    "Use sort, limit, skip as methods:\n",
    "```\n",
    "list(db.prizes.find({\"category\": \"economics\"},\n",
    "                    {\"year\": 1, \"_id\": 0})\n",
    "     .sort(\"year\")\n",
    "     .limit(3)\n",
    "     .limit(5))\n",
    "```"
   ]
  },
  {
   "cell_type": "markdown",
   "metadata": {},
   "source": [
    "- Save to filter_ the filter document to fetch only prizes with one or more quarter-share laureates, i.e. with a \"laureates.share\" of \"4\".\n",
    "- Save to projection the list of field names so that prize category, year and laureates' motivations (\"laureates.motivation\") may be fetched for inspection.\n",
    "- Save to cursor a cursor that will yield prizes, sorted by ascending year. Limit this to five prizes, and sort using the most concise specification."
   ]
  },
  {
   "cell_type": "code",
   "execution_count": 13,
   "metadata": {},
   "outputs": [],
   "source": [
    "# from pprint import pprint\n",
    "\n",
    "# # Fetch prizes with quarter-share laureate(s)\n",
    "# filter_ = {\"laureates.share\" : \"4\"}\n",
    "\n",
    "# # Save the list of field names\n",
    "# projection = ['category', 'year', 'laureates.motivation']\n",
    "\n",
    "# # Save a cursor to yield the first five prizes\n",
    "# cursor = db.prizes.find(filter_, projection).sort('year',1).limit(5)\n",
    "# pprint(list(cursor))"
   ]
  },
  {
   "cell_type": "markdown",
   "metadata": {},
   "source": [
    "- Complete the function get_particle_laureates that, given page_number and page_size, retrieves a given page of prize data on laureates who have the word \"particle\" (use $regex) in their prize motivations (\"prizes.motivation\"). Sort laureates first by ascending \"prizes.year\" and next by ascending \"surname\".\n",
    "- Collect and save the first nine pages of laureate data to pages."
   ]
  },
  {
   "cell_type": "code",
   "execution_count": 14,
   "metadata": {},
   "outputs": [],
   "source": [
    "# from pprint import pprint\n",
    "\n",
    "# # Write a function to retrieve a page of data\n",
    "# def get_particle_laureates(page_number=1, page_size=3):\n",
    "#     if page_number < 1 or not isinstance(page_number, int):\n",
    "#         raise ValueError(\"Pages are natural numbers (starting from 1).\")\n",
    "#     particle_laureates = list(\n",
    "#         db.laureates.find(\n",
    "#             {\"prizes.motivation\": {\"$regex\": \"particle\"}},\n",
    "#             [\"firstname\", \"surname\", \"prizes\"])\n",
    "#         .sort([(\"prizes.year\" , 1), (\"surname\", 1)])\n",
    "#         .skip(page_size * (page_number - 1))\n",
    "#         .limit(page_size))\n",
    "#     return particle_laureates\n",
    "\n",
    "# # Collect and save the first nine pages\n",
    "# pages = [get_particle_laureates(page_number=page) for page in range(1,9)]\n",
    "# pprint(pages[0])"
   ]
  }
 ],
 "metadata": {
  "interpreter": {
   "hash": "1e949e87132dd83f1a7623eb88007e3532b03b66b77111be347aa4a383049722"
  },
  "kernelspec": {
   "display_name": "Python 3.8.11 ('env_py')",
   "language": "python",
   "name": "python3"
  },
  "language_info": {
   "codemirror_mode": {
    "name": "ipython",
    "version": 3
   },
   "file_extension": ".py",
   "mimetype": "text/x-python",
   "name": "python",
   "nbconvert_exporter": "python",
   "pygments_lexer": "ipython3",
   "version": "3.8.11"
  },
  "orig_nbformat": 4
 },
 "nbformat": 4,
 "nbformat_minor": 2
}
