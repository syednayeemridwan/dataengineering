{
 "cells": [
  {
   "cell_type": "markdown",
   "metadata": {},
   "source": [
    "- What expression asserts that the distinct Nobel Prize categories catalogued by the \"prizes\" collection are the same as those catalogued by the \"laureates\"? "
   ]
  },
  {
   "cell_type": "code",
   "execution_count": 1,
   "metadata": {},
   "outputs": [],
   "source": [
    "# assert set(db.prizes.distinct(\"category\")) == set(db.laureates.distinct(\"prizes.category\"))"
   ]
  },
  {
   "cell_type": "markdown",
   "metadata": {},
   "source": [
    "- Return a set of all such countries as countries."
   ]
  },
  {
   "cell_type": "code",
   "execution_count": 2,
   "metadata": {},
   "outputs": [],
   "source": [
    "# # Countries recorded as countries of death but not as countries of birth\n",
    "# countries = set(db.laureates.distinct(\"diedCountry\")) - set(db.laureates.distinct(\"bornCountry\"))\n",
    "# print(countries)"
   ]
  },
  {
   "cell_type": "markdown",
   "metadata": {},
   "source": [
    "- Determine the number of distinct countries recorded as part of an affiliation for laureates' prizes. Save this as count."
   ]
  },
  {
   "cell_type": "code",
   "execution_count": 3,
   "metadata": {},
   "outputs": [],
   "source": [
    "# # The number of distinct countries of laureate affiliation for prizes\n",
    "# count = len(db.laureates.distinct(\"prizes.affiliations.country\"))\n",
    "# print(count)"
   ]
  },
  {
   "cell_type": "markdown",
   "metadata": {},
   "source": [
    "- In which countries have USA-born laureates had affiliations for their prizes?"
   ]
  },
  {
   "cell_type": "code",
   "execution_count": 4,
   "metadata": {},
   "outputs": [],
   "source": [
    "# filter = {\n",
    "#     \"bornCountry\" : \"USA\"\n",
    "# }\n",
    "# db.laureates.distinct(\"prizes.affiliations.country\", filter)"
   ]
  },
  {
   "cell_type": "markdown",
   "metadata": {},
   "source": [
    "- Save a filter document criteria that, when passed to db.prizes.distinct, returns all prize categories shared by three or more laureates. That is, \"laureates.2\" must exist for such documents.\n",
    "- Save these prize categories as a Python set called triple_play_categories.\n",
    "- Confirm via an assertion that \"literature\" is the only prize category with no prizes shared by three or more laureates."
   ]
  },
  {
   "cell_type": "code",
   "execution_count": 5,
   "metadata": {},
   "outputs": [],
   "source": [
    "# # Save a filter for prize documents with three or more laureates\n",
    "# criteria = {\"laureates.2\": {\"$exists\": True}}\n",
    "\n",
    "# # Save the set of distinct prize categories in documents satisfying the criteria\n",
    "# triple_play_categories = set(db.prizes.distinct(\"category\", criteria))\n",
    "\n",
    "# # Confirm literature as the only category not satisfying the criteria.\n",
    "# assert set(db.prizes.distinct(\"category\")) - triple_play_categories == {\"literature\"}"
   ]
  },
  {
   "cell_type": "markdown",
   "metadata": {},
   "source": [
    "- What is the approximate ratio of the number of laureates who won an unshared ({\"share\": \"1\"}) prize in physics after World War II ({\"year\": {\"$gte\": \"1945\"}}) to the number of laureates who won a shared prize in physics after World War II?"
   ]
  },
  {
   "cell_type": "code",
   "execution_count": 6,
   "metadata": {},
   "outputs": [],
   "source": [
    "# unshared = db.laureates.count_documents({\n",
    "#     \"prizes\": {\"$elemMatch\": {\n",
    "#         \"category\": \"physics\",\n",
    "#         \"share\": \"1\",\n",
    "#         \"year\": {\"$gte\": \"1945\"}}}})\n",
    "# shared = db.laureates.count_documents({\n",
    "#     \"prizes\": {\"$elemMatch\": {\n",
    "#         \"category\": \"physics\",\n",
    "#         \"share\": {\"$ne\": \"1\"},\n",
    "#         \"year\": {\"$gte\": \"1945\"}}}})\n",
    "# print(unshared/shared)"
   ]
  },
  {
   "cell_type": "markdown",
   "metadata": {},
   "source": [
    "- Save an $elemMatch filter unshared to count laureates with unshared prizes in categories other than (\"not in\") [\"physics\", \"chemistry\", \"medicine\"] in or after 1945.\n",
    "- Save an $elemMatch filter shared to count laureates with shared (i.e., \"share\" is not \"1\") prizes in categories other than [\"physics\", \"chemistry\", \"medicine\"] in or after 1945."
   ]
  },
  {
   "cell_type": "code",
   "execution_count": 7,
   "metadata": {},
   "outputs": [],
   "source": [
    "# # Save a filter for laureates with unshared prizes\n",
    "# unshared = {\n",
    "#     \"prizes\": {\"$elemMatch\": {\n",
    "#         \"category\": {\"$nin\": [\"physics\", \"chemistry\", \"medicine\"]},\n",
    "#         \"share\": \"1\",\n",
    "#         \"year\": {\"$gte\": \"1945\"},\n",
    "#     }}}\n",
    "\n",
    "# # Save a filter for laureates with shared prizes\n",
    "# shared = {\n",
    "#     \"prizes\": {\"$elemMatch\": {\n",
    "#         \"category\": {\"$nin\": [\"physics\", \"chemistry\", \"medicine\"]},\n",
    "#         \"share\": {\"$ne\": \"1\"},\n",
    "#         \"year\": {\"$gte\": \"1945\"},\n",
    "#     }}}\n",
    "\n",
    "# ratio = db.laureates.count_documents(unshared) / db.laureates.count_documents(shared)\n",
    "# print(ratio)"
   ]
  },
  {
   "cell_type": "markdown",
   "metadata": {},
   "source": [
    "- You won't need the $elemMatch operator at all for this exercise.\n",
    "- Save a filter before to count organization laureates with prizes won before 1945. Recall that organization status is encoded with the \"gender\" field, and that dot notation is needed to access a laureate's \"year\" field within its \"prizes\" array.\n",
    "- Save a filter in_or_after to count organization laureates with prizes won in or after 1945."
   ]
  },
  {
   "cell_type": "code",
   "execution_count": 8,
   "metadata": {},
   "outputs": [],
   "source": [
    "# # Save a filter for organization laureates with prizes won before 1945\n",
    "# before = {\n",
    "#     \"gender\": \"org\",\n",
    "#     \"prizes.year\": {\"$lt\": \"1945\"},\n",
    "#     }\n",
    "\n",
    "# # Save a filter for organization laureates with prizes won in or after 1945\n",
    "# in_or_after = {\n",
    "#     \"gender\": \"org\",\n",
    "#     \"prizes.year\": {\"$gte\": \"1945\"},\n",
    "#     }\n",
    "\n",
    "# n_before = db.laureates.count_documents(before)\n",
    "# n_in_or_after = db.laureates.count_documents(in_or_after)\n",
    "# ratio = n_in_or_after / (n_in_or_after + n_before)\n",
    "# print(ratio)"
   ]
  },
  {
   "cell_type": "markdown",
   "metadata": {},
   "source": [
    "- There are two laureates with Berkeley, California as a prize affiliation city that have the initials G.S. - Glenn Seaborg and George Smoot. How many laureates in total have a first name beginning with \"G\" and a surname beginning with \"S\"?"
   ]
  },
  {
   "cell_type": "code",
   "execution_count": 9,
   "metadata": {},
   "outputs": [],
   "source": [
    "# db.laureates.count_documents({\"firstname\": Regex(\"^G\"), \"surname\": Regex(\"^S\")})"
   ]
  },
  {
   "cell_type": "markdown",
   "metadata": {},
   "source": [
    "- Use a regular expression object to filter for laureates with \"Germany\" in their \"bornCountry\" value."
   ]
  },
  {
   "cell_type": "code",
   "execution_count": 10,
   "metadata": {},
   "outputs": [],
   "source": [
    "# from bson.regex import Regex\n",
    "\n",
    "# # Filter for laureates with \"Germany\" in their \"bornCountry\" value\n",
    "# criteria = {\"bornCountry\": Regex(\"Germany\")}\n",
    "# print(set(db.laureates.distinct(\"bornCountry\", criteria)))"
   ]
  },
  {
   "cell_type": "markdown",
   "metadata": {},
   "source": [
    "- Use a regular expression object to filter for laureates with a \"bornCountry\" value starting with \"Germany\"."
   ]
  },
  {
   "cell_type": "code",
   "execution_count": 11,
   "metadata": {},
   "outputs": [],
   "source": [
    "# from bson.regex import Regex\n",
    "\n",
    "# # Filter for laureates with a \"bornCountry\" value starting with \"Germany\"\n",
    "# criteria = {\"bornCountry\": Regex(\"^Germany\")}\n",
    "# print(set(db.laureates.distinct(\"bornCountry\", criteria)))"
   ]
  },
  {
   "cell_type": "markdown",
   "metadata": {},
   "source": [
    "- Use a regular expression object to filter for laureates born in what was at the time Germany but is now another country."
   ]
  },
  {
   "cell_type": "code",
   "execution_count": 12,
   "metadata": {},
   "outputs": [],
   "source": [
    "# from bson.regex import Regex\n",
    "\n",
    "# # Fill in a string value to be sandwiched between the strings \"^Germany \" and \"now\"\n",
    "# criteria = {\"bornCountry\": Regex(\"^Germany \" + \"\\(\" + \"now\")}\n",
    "# print(set(db.laureates.distinct(\"bornCountry\", criteria)))"
   ]
  },
  {
   "cell_type": "markdown",
   "metadata": {},
   "source": [
    "- Use a regular expression object to filter for laureates born in what is now Germany but at the time was another country."
   ]
  },
  {
   "cell_type": "code",
   "execution_count": 14,
   "metadata": {},
   "outputs": [],
   "source": [
    "# from bson.regex import Regex\n",
    "\n",
    "# #Filter for currently-Germany countries of birth. Fill in a string value to be sandwiched between the strings \"now\" and \"$\"\n",
    "# criteria = {\"bornCountry\": Regex(\"now Germany\" + \"\\)\" + \"$\")}\n",
    "# print(set(db.laureates.distinct(\"bornCountry\", criteria)))"
   ]
  },
  {
   "cell_type": "markdown",
   "metadata": {},
   "source": [
    "- Save a filter criteria that finds laureates with prizes.motivation values containing \"transistor\" as a substring. The substring can appear anywhere within the value, so no anchoring characters are needed.\n",
    "- Save to first and last the field names corresponding to a laureate's first name and last name (i.e. \"surname\") so that we can print out the names of these laureates."
   ]
  },
  {
   "cell_type": "code",
   "execution_count": 15,
   "metadata": {},
   "outputs": [],
   "source": [
    "# from bson.regex import Regex\n",
    "\n",
    "# # Save a filter for laureates with prize motivation values containing \"transistor\" as a substring\n",
    "# criteria = {\"prizes.motivation\": Regex(\"transistor\")}\n",
    "\n",
    "# # Save the field names corresponding to a laureate's first name and last name\n",
    "# first, last = 'firstname', 'surname'\n",
    "# print([(laureate[first], laureate[last]) for laureate in db.laureates.find(criteria)])"
   ]
  }
 ],
 "metadata": {
  "interpreter": {
   "hash": "1e949e87132dd83f1a7623eb88007e3532b03b66b77111be347aa4a383049722"
  },
  "kernelspec": {
   "display_name": "Python 3.8.11 ('env_py')",
   "language": "python",
   "name": "python3"
  },
  "language_info": {
   "codemirror_mode": {
    "name": "ipython",
    "version": 3
   },
   "file_extension": ".py",
   "mimetype": "text/x-python",
   "name": "python",
   "nbconvert_exporter": "python",
   "pygments_lexer": "ipython3",
   "version": "3.8.11"
  },
  "orig_nbformat": 4
 },
 "nbformat": 4,
 "nbformat_minor": 2
}
