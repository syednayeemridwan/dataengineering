{
 "cells": [
  {
   "cell_type": "markdown",
   "metadata": {},
   "source": [
    "Here is a cursor, followed by four aggregation pipeline stages:\n",
    "```\n",
    "cursor = (db.laureates.find(\n",
    "    projection={\"firstname\": 1, \"prizes.year\": 1, \"_id\": 0},\n",
    "    filter={\"gender\": \"org\"})\n",
    " .limit(3).sort(\"prizes.year\", -1))\n",
    "\n",
    "project_stage = {\"$project\": {\"firstname\": 1, \"prizes.year\": 1, \"_id\": 0}}\n",
    "match_stage = {\"$match\": {\"gender\": \"org\"}}\n",
    "limit_stage = {\"$limit\": 3}\n",
    "sort_stage = {\"$sort\": {\"prizes.year\": -1}}\n",
    "```\n",
    "What sequence pipeline of the above four stages can produce a cursor db.laureates.aggregate(pipeline) equivalent to cursor above?\n",
    "\n",
    "- `[match_stage, project_stage, sort_stage, limit_stage]`"
   ]
  },
  {
   "cell_type": "markdown",
   "metadata": {},
   "source": [
    "- Translate the cursor cursor to an equivalent aggregation cursor, saving the pipeline stages to pipeline. Recall that the find collection method's \"filter\" parameter maps to the \"$match\" aggregation stage, its \"projection\" parameter maps to the \"$project\" stage, and the \"limit\" parameter (or cursor method) maps to the \"$limit\" stage.\n",
    "```\n",
    "cursor = (db.laureates.find(\n",
    "    {\"gender\": {\"$ne\": \"org\"}},\n",
    "    [\"bornCountry\", \"prizes.affiliations.country\"]\n",
    ").limit(3))\n",
    "```"
   ]
  },
  {
   "cell_type": "code",
   "execution_count": 1,
   "metadata": {},
   "outputs": [],
   "source": [
    "# # Translate cursor to aggregation pipeline\n",
    "# pipeline = [\n",
    "#     {\"$match\":  {\"gender\": {\"$ne\": \"org\"}}},\n",
    "#     {\"$project\": {\"bornCountry\": 1,  \"prizes.affiliations.country\": 1}},\n",
    "#     {\"$limit\": 3}\n",
    "# ]\n",
    "\n",
    "# for doc in db.laureates.aggregate(pipeline):\n",
    "#     print(\"{bornCountry}: {prizes}\".format(**doc))"
   ]
  },
  {
   "cell_type": "markdown",
   "metadata": {},
   "source": [
    "- Save to pipeline an aggregation pipeline to collect prize documents as detailed above. Use Python's collections.OrderedDict to specify any sorting."
   ]
  },
  {
   "cell_type": "code",
   "execution_count": 2,
   "metadata": {},
   "outputs": [],
   "source": [
    "# from collections import OrderedDict\n",
    "# from itertools import groupby\n",
    "# from operator import itemgetter\n",
    "\n",
    "# original_categories = set(db.prizes.distinct(\"category\", {\"year\": \"1901\"}))\n",
    "\n",
    "# # Save an pipeline to collect original-category prizes\n",
    "# pipeline = [\n",
    "#     {\"$match\": {\"category\": {\"$in\": list(original_categories)}}},\n",
    "#     {\"$project\": {'year': 1, 'category': 1}},\n",
    "#     {\"$sort\": OrderedDict([(\"year\", -1)])}\n",
    "# ]\n",
    "# cursor = db.prizes.aggregate(pipeline)\n",
    "# for key, group in groupby(cursor, key=itemgetter(\"year\")):\n",
    "#     missing = original_categories - {doc[\"category\"] for doc in group}\n",
    "#     if missing:\n",
    "#         print(\"{year}: {missing}\".format(year=key, missing=\", \".join(sorted(missing))))"
   ]
  },
  {
   "cell_type": "markdown",
   "metadata": {},
   "source": [
    " let's do this via an aggregation (result should be an empty list):\n",
    "\n",
    "```\n",
    "list(db.prizes.aggregate([\n",
    "    {\"$project\": {\"allThree\": {\"$setEquals\": [____, ____]},\n",
    "                  \"noneThree\": {\"$not\": {\"$setIsSubset\": [____, ____]}}}},\n",
    "    {\"$match\": {\"$nor\": [{\"allThree\": True}, {\"noneThree\": True}]}}]))\n",
    "```\n",
    "Which values fill the blanks?\n",
    "- `\"$laureates.share\", [\"3\"], [\"3\"], \"$laureates.share\"`"
   ]
  },
  {
   "cell_type": "markdown",
   "metadata": {},
   "source": [
    "- Fill out pipeline to determine the number of prizes awarded (at least partly) to organizations. To do this, you'll first need to $match on the \"gender\" that designates organizations.\n",
    "- Then, use a field path to project the number of prizes for each organization as the \"$size\" of the \"prizes\" array. Recall that to specify the value of a field \"<my_field>\", you use the field path \" d<my_field>\".\n",
    "- Finally, use a single group {\"_id\": None} to sum over the values of all organizations' prize counts."
   ]
  },
  {
   "cell_type": "code",
   "execution_count": 3,
   "metadata": {},
   "outputs": [],
   "source": [
    "# # Count prizes awarded (at least partly) to organizations as a sum over sizes of \"prizes\" arrays.\n",
    "# pipeline = [\n",
    "#     {\"$match\": {\"gender\": \"org\"}},\n",
    "#     {\"$project\": {\"n_prizes\": {\"$size\": \"$prizes\"}}},\n",
    "#     {\"$group\": {\"_id\": None, \"n_prizes_total\": {\"$sum\": \"$n_prizes\"}}}\n",
    "# ]\n",
    "\n",
    "# print(list(db.laureates.aggregate(pipeline)))"
   ]
  },
  {
   "cell_type": "markdown",
   "metadata": {},
   "source": [
    "- Make the $group stage output a document for each prize year (set \"_id\" to the field path for year) with the set of categories awarded that year.\n",
    "- Given your intermediate collection of year-keyed documents, $project a field named \"missing\" with the (original) categories not awarded that year. Again, mind your field paths!\n",
    "- Use a $match stage to only pass through documents with at least one missing prize category.\n",
    "- Finally, add sort documents in descending order."
   ]
  },
  {
   "cell_type": "code",
   "execution_count": 4,
   "metadata": {},
   "outputs": [],
   "source": [
    "# from collections import OrderedDict\n",
    "\n",
    "# original_categories = sorted(set(db.prizes.distinct(\"category\", {\"year\": \"1901\"})))\n",
    "# pipeline = [\n",
    "#     {\"$match\": {\"category\": {\"$in\": original_categories}}},\n",
    "#     {\"$project\": {\"category\": 1, \"year\": 1}},\n",
    "    \n",
    "#     # Collect the set of category values for each prize year.\n",
    "#     {\"$group\": {\"_id\": \"$year\", \"categories\": {\"$addToSet\": \"$category\"}}},\n",
    "    \n",
    "#     # Project categories *not* awarded (i.e., that are missing this year).\n",
    "#     {\"$project\": {\"missing\": {\"$setDifference\": [original_categories, \"$categories\"]}}},\n",
    "    \n",
    "#     # Only include years with at least one missing category\n",
    "#     {\"$match\": {\"missing.0\": {\"$exists\": True}}},\n",
    "    \n",
    "#     # Sort in reverse chronological order. Note that \"_id\" is a distinct year at this stage.\n",
    "#     {\"$sort\": OrderedDict([(\"_id\", -1)])},\n",
    "# ]\n",
    "# for doc in db.prizes.aggregate(pipeline):\n",
    "#     print(\"{year}: {missing}\".format(year=doc[\"_id\"],missing=\", \".join(sorted(doc[\"missing\"]))))"
   ]
  },
  {
   "cell_type": "markdown",
   "metadata": {},
   "source": [
    "The $expr operator allows embedding of aggregation expressions in a normal query (or in a $match stage). Which of the following expressions counts the number of laureate documents with string-valued bornCountries when passed to db.laureates.count_documents?\n",
    "\n",
    "You can assume (and check!) that the following is true:\n",
    "`assert all(isinstance(v, str) for v in db.laureates.distinct(\"bornCountry\"))`\n",
    "\n",
    "- `{\"bornCountry\": {\"$in\": db.laureates.distinct(\"bornCountry\")}}`\n",
    "- `{\"$expr\": {\"$in\": [\"$bornCountry\", db.laureates.distinct(\"bornCountry\")]}}`\n",
    "- `{\"$expr\": {\"$eq\": [{\"$type\": \"$bornCountry\"}, \"string\"]}}`\n",
    "- `{\"bornCountry\": {\"$type\": \"string\"}}`"
   ]
  },
  {
   "cell_type": "markdown",
   "metadata": {},
   "source": [
    "- Use $unwind stages to ensure a single prize affiliation country per pipeline document.\n",
    "- Filter out prize-affiliation-country values that are \"empty\" (null, not present, etc.) -- ensure values are \"$in\" the list of known values.\n",
    "- Produce a count of documents for each value of \"affilCountrySameAsBorn\" (a field we've projected for you using the $indexOfBytes operator) by adding 1 to the running sum."
   ]
  },
  {
   "cell_type": "code",
   "execution_count": 5,
   "metadata": {},
   "outputs": [],
   "source": [
    "# key_ac = \"prizes.affiliations.country\"\n",
    "# key_bc = \"bornCountry\"\n",
    "# pipeline = [\n",
    "#     {\"$project\": {key_bc: 1, key_ac: 1}},\n",
    "\n",
    "#     # Ensure a single prize affiliation country per pipeline document\n",
    "#     {\"$unwind\": \"$prizes\"},\n",
    "#     {\"$unwind\": \"$prizes.affiliations\"},\n",
    "\n",
    "#     # Ensure values in the list of distinct values (so not empty)\n",
    "#     {\"$match\": {key_ac: {\"$in\": db.laureates.distinct(key_ac)}}},\n",
    "#     {\"$project\": {\"affilCountrySameAsBorn\": {\n",
    "#         \"$gte\": [{\"$indexOfBytes\": [\"$\"+key_ac, \"$\"+key_bc]}, 0]}}},\n",
    "\n",
    "#     # Count by \"$affilCountrySameAsBorn\" value (True or False)\n",
    "#     {\"$group\": {\"_id\": \"$affilCountrySameAsBorn\",\n",
    "#                 \"count\": {\"$sum\": 1}}},\n",
    "# ]\n",
    "# for doc in db.laureates.aggregate(pipeline): print(doc)"
   ]
  },
  {
   "cell_type": "markdown",
   "metadata": {},
   "source": [
    "- $unwind the laureates array field to output one pipeline document for each array element.\n",
    "- After pulling in laureate bios with a $lookup stage, unwind the new laureate_bios array field (each laureate has only a single biography document).\n",
    "- Collect the set of bornCountries associated with each prize category.\n",
    "- Project out the size of each category's set of bornCountries."
   ]
  },
  {
   "cell_type": "code",
   "execution_count": 6,
   "metadata": {},
   "outputs": [],
   "source": [
    "# pipeline = [\n",
    "#     # Unwind the laureates array\n",
    "#     {\"$unwind\": \"$laureates\"},\n",
    "#     {\"$lookup\": {\n",
    "#         \"from\": \"laureates\", \"foreignField\": \"id\",\n",
    "#         \"localField\": \"laureates.id\", \"as\": \"laureate_bios\"}},\n",
    "\n",
    "#     # Unwind the new laureate_bios array\n",
    "#     {\"$unwind\": \"$laureate_bios\"},\n",
    "#     {\"$project\": {\"category\": 1,\n",
    "#                   \"bornCountry\": \"$laureate_bios.bornCountry\"}},\n",
    "\n",
    "#     # Collect bornCountry values associated with each prize category\n",
    "#     {\"$group\": {\"_id\": \"$category\",\n",
    "#                 \"bornCountries\": {\"$addToSet\": \"$bornCountry\"}}},\n",
    "\n",
    "#     # Project out the size of each category's (set of) bornCountries\n",
    "#     {\"$project\": {\"category\": 1,\n",
    "#                   \"nBornCountries\": {\"$size\": \"$bornCountries\"}}},\n",
    "#     {\"$sort\": {\"nBornCountries\": -1}},\n",
    "# ]\n",
    "# for doc in db.prizes.aggregate(pipeline): print(doc)"
   ]
  },
  {
   "cell_type": "markdown",
   "metadata": {},
   "source": [
    "For the pipeline we developed in the last slide deck, I want you to replace the last ($bucket) stage with one such that, given the documents docs collected, we can get the following output:\n",
    "```\n",
    "from operator import itemgetter\n",
    "\n",
    "print(max(docs, key=itemgetter(\"years\")))\n",
    "print(min(docs, key=itemgetter(\"years\")))\n",
    "{'firstname': 'Rita', 'surname': 'Levi-Montalcini', 'years': 103.0}\n",
    "{'firstname': 'Martin Luther', 'surname': 'King Jr.', 'years': 39.0}\n",
    "```\n",
    "You may assume that any earlier $project stage has been replaced by an equivalent $addFields stage."
   ]
  },
  {
   "cell_type": "markdown",
   "metadata": {},
   "source": [
    "- `{\"$project\": {\"years\": 1, \"firstname\": 1, \"surname\": 1, \"_id\": 0}}`"
   ]
  },
  {
   "cell_type": "markdown",
   "metadata": {},
   "source": [
    "- In your aggregation pipeline pipeline, use the \"gender\" field to limit results to people (that is, not organizations).\n",
    "- Count prizes for which the laureate's \"bornCountry\" is not also the \"country\" of any of their affiliations for the prize. Be sure to use field paths (precede a field name with \"$\") when appropriate."
   ]
  },
  {
   "cell_type": "code",
   "execution_count": 7,
   "metadata": {},
   "outputs": [],
   "source": [
    "# pipeline = [\n",
    "#     # Limit results to people; project needed fields; unwind prizes\n",
    "#     {\"$match\": {\"gender\": {\"$ne\": \"org\"}}},\n",
    "#     {\"$project\": {\"bornCountry\": 1, \"prizes.affiliations.country\": 1}},\n",
    "#     {\"$unwind\": \"$prizes\"},\n",
    "  \n",
    "#     # Count prizes with no country-of-birth affiliation\n",
    "#     {\"$addFields\": {\"bornCountryInAffiliations\": {\"$in\": [\"$bornCountry\", \"$prizes.affiliations.country\"]}}},\n",
    "#     {\"$match\": {\"bornCountryInAffiliations\": False}},\n",
    "#     {\"$count\": \"awardedElsewhere\"},\n",
    "# ]\n",
    "\n",
    "# print(list(db.laureates.aggregate(pipeline)))"
   ]
  },
  {
   "cell_type": "markdown",
   "metadata": {},
   "source": [
    "- Construct a stage added_stage that filters for laureate \"prizes.affiliations.country\" values that are non-empty, that is, are $in a list of the distinct values that the field takes in the collection.\n",
    "- Insert this stage into the pipeline so that it filters out single prizes (not arrays) and precedes any test for membership in an array of countries. Recall that the first parameter to list> .insert is the (zero-based) index for insertion."
   ]
  },
  {
   "cell_type": "code",
   "execution_count": 8,
   "metadata": {},
   "outputs": [],
   "source": [
    "# pipeline = [\n",
    "#     {\"$match\": {\"gender\": {\"$ne\": \"org\"}}},\n",
    "#     {\"$project\": {\"bornCountry\": 1, \"prizes.affiliations.country\": 1}},\n",
    "#     {\"$unwind\": \"$prizes\"},\n",
    "#     {\"$addFields\": {\"bornCountryInAffiliations\": {\"$in\": [\"$bornCountry\", \"$prizes.affiliations.country\"]}}},\n",
    "#     {\"$match\": {\"bornCountryInAffiliations\": False}},\n",
    "#     {\"$count\": \"awardedElsewhere\"},\n",
    "# ]\n",
    "\n",
    "# # Construct the additional filter stage\n",
    "# added_stage = {\"$match\": {\"prizes.affiliations.country\": {\"$in\": db.laureates.distinct(\"prizes.affiliations.country\")}}}\n",
    "\n",
    "# # Insert this stage into the pipeline\n",
    "# pipeline.insert(3, added_stage)\n",
    "# print(list(db.laureates.aggregate(pipeline)))"
   ]
  }
 ],
 "metadata": {
  "interpreter": {
   "hash": "1e949e87132dd83f1a7623eb88007e3532b03b66b77111be347aa4a383049722"
  },
  "kernelspec": {
   "display_name": "Python 3.8.11 ('env_py')",
   "language": "python",
   "name": "python3"
  },
  "language_info": {
   "codemirror_mode": {
    "name": "ipython",
    "version": 3
   },
   "file_extension": ".py",
   "mimetype": "text/x-python",
   "name": "python",
   "nbconvert_exporter": "python",
   "pygments_lexer": "ipython3",
   "version": "3.8.11"
  },
  "orig_nbformat": 4
 },
 "nbformat": 4,
 "nbformat_minor": 2
}
