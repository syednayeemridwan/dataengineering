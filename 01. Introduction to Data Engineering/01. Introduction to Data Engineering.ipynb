{
 "cells": [
  {
   "cell_type": "markdown",
   "metadata": {},
   "source": [
    "Data Engineer:\n",
    "- Sets up scheduled ingestion of data from the application databases to an analytical database."
   ]
  },
  {
   "cell_type": "markdown",
   "metadata": {},
   "source": [
    "Data scientists are querying the online store databases directly and slowing down the functioning of the application since it's using the same database. Data Engineer:\n",
    "- Should make sure there's a separate database for analytics."
   ]
  },
  {
   "cell_type": "markdown",
   "metadata": {},
   "source": [
    "The data engineer's workflow often begins and ends with databases."
   ]
  },
  {
   "cell_type": "markdown",
   "metadata": {},
   "source": [
    "- Data processing is distributed over clusters of virtual machines.\n",
    "- This makes it very easy to scale. If things are slowing down, assign some more virtual machines to the job."
   ]
  },
  {
   "cell_type": "markdown",
   "metadata": {},
   "source": [
    "Responsibilities of a Scheduler (eg- Airflow):\n",
    "- Make sure jobs run in a specific order and all dependencies are resolved correctly.\n",
    "- Make sure the jobs run at midnight UTC each day.\n",
    "- (NOT Scale up the number of nodes when there's lots of data to be processed. That's the job of the processing tool)"
   ]
  },
  {
   "cell_type": "markdown",
   "metadata": {},
   "source": [
    "The cloud can provide you :\n",
    "- with the resources you need, when you need them. (This property of cloud computing is also called cloud elasticity.)\n",
    "- Cost optimized\n",
    "- Data safety through replications in multiple places and maintain them"
   ]
  },
  {
   "cell_type": "markdown",
   "metadata": {},
   "source": [
    "Cloud Service provider popularity:\n",
    "- AWS\n",
    "- Azure\n",
    "- GCP"
   ]
  },
  {
   "cell_type": "markdown",
   "metadata": {},
   "source": []
  }
 ],
 "metadata": {
  "interpreter": {
   "hash": "1e949e87132dd83f1a7623eb88007e3532b03b66b77111be347aa4a383049722"
  },
  "kernelspec": {
   "display_name": "Python 3.8.11 ('env_py')",
   "language": "python",
   "name": "python3"
  },
  "language_info": {
   "name": "python",
   "version": "3.8.11"
  },
  "orig_nbformat": 4
 },
 "nbformat": 4,
 "nbformat_minor": 2
}
