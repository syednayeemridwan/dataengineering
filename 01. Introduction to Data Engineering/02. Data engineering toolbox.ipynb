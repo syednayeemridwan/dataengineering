{
 "cells": [
  {
   "cell_type": "markdown",
   "metadata": {},
   "source": [
    "- Complete the SELECT statement so it selects the first_name and the last_name in the \"Customer\" table. Make sure to order by the last name first and the first name second.\n",
    "- Use the .head() method to show the first 3 rows of data.\n",
    "- Use .info() to show some general information about data."
   ]
  },
  {
   "cell_type": "code",
   "execution_count": 2,
   "metadata": {},
   "outputs": [],
   "source": [
    "# import pandas as pd\n",
    "\n",
    "# # Complete the SELECT statement\n",
    "# data = pd.read_sql(\"\"\"\n",
    "# SELECT first_name, last_name FROM \"Customer\"\n",
    "# ORDER BY last_name, first_name\n",
    "# \"\"\", db_engine)\n",
    "\n",
    "# # Show the first 3 rows of the DataFrame\n",
    "# print(data.head(3))\n",
    "\n",
    "# # Show the info of the DataFrame\n",
    "# print(data.info())"
   ]
  },
  {
   "cell_type": "markdown",
   "metadata": {},
   "source": [
    "- Complete the SELECT statement, so it joins the \"Customer\" with the \"Order\" table.\n",
    "- Print the id column of data. What do you see?"
   ]
  },
  {
   "cell_type": "code",
   "execution_count": 3,
   "metadata": {},
   "outputs": [],
   "source": [
    "# # Complete the SELECT statement\n",
    "# data = pd.read_sql(\"\"\"\n",
    "# SELECT * FROM \"Customer\"\n",
    "# INNER JOIN \"Order\"\n",
    "# ON \"Order\".\"customer_id\"=\"Customer\".\"id\"\n",
    "# \"\"\", db_engine)\n",
    "\n",
    "# # Show the id column of data\n",
    "# print(data.id)"
   ]
  },
  {
   "cell_type": "markdown",
   "metadata": {},
   "source": [
    "Parallel computing:\n",
    "- can optimize the use of multiple processing units.\n",
    "- can optimize the use of memory between several machines.\n",
    "- can't split every task successfully into subtasks. Additionally, some tasks might be too small to benefit from parallel computing due to the communication overhead."
   ]
  },
  {
   "cell_type": "markdown",
   "metadata": {},
   "source": [
    "- Complete the code, so you apply take_mean_age with 1 core first, then 2 and finally 4 cores."
   ]
  },
  {
   "cell_type": "code",
   "execution_count": 4,
   "metadata": {},
   "outputs": [],
   "source": [
    "# # Function to apply a function over multiple cores\n",
    "# @print_timing\n",
    "# def parallel_apply(apply_func, groups, nb_cores):\n",
    "#     with Pool(nb_cores) as p:\n",
    "#         results = p.map(apply_func, groups)\n",
    "#     return pd.concat(results)\n",
    "\n",
    "# # Parallel apply using 1 core\n",
    "# parallel_apply(take_mean_age, athlete_events.groupby('Year'), 1)\n",
    "\n",
    "# # Parallel apply using 2 cores\n",
    "# parallel_apply(take_mean_age, athlete_events.groupby('Year'), 2)\n",
    "\n",
    "# # Parallel apply using 4 cores\n",
    "# parallel_apply(take_mean_age, athlete_events.groupby('Year'), 4)"
   ]
  },
  {
   "cell_type": "markdown",
   "metadata": {},
   "source": [
    "- Create 4 partitions of the athletes_events DataFrame using dd.from_pandas()."
   ]
  },
  {
   "cell_type": "code",
   "execution_count": 6,
   "metadata": {},
   "outputs": [],
   "source": [
    "# import dask.dataframe as dd\n",
    "\n",
    "# # Set the number of partitions\n",
    "# athlete_events_dask = dd.from_pandas(athlete_events, npartitions=4)"
   ]
  },
  {
   "cell_type": "markdown",
   "metadata": {},
   "source": [
    "- Print out the mean age for each Year. Remember dask uses lazy evaluation."
   ]
  },
  {
   "cell_type": "code",
   "execution_count": 7,
   "metadata": {},
   "outputs": [],
   "source": [
    "# import dask.dataframe as dd\n",
    "\n",
    "# # Set the number of partitions\n",
    "# athlete_events_dask = dd.from_pandas(athlete_events, npartitions=4)\n",
    "\n",
    "# # Calculate the mean Age per Year\n",
    "# print(athlete_events_dask.groupby('Year').Age.mean().compute())"
   ]
  },
  {
   "cell_type": "markdown",
   "metadata": {},
   "source": [
    "- Find out the type of athlete_events_spark.\n",
    "- Find out the schema of athlete_events_spark.\n",
    "- Print out the mean age of the Olympians, grouped by year. Notice that spark has not actually calculated anything yet. You can call this lazy evaluation.\n",
    "- Take the previous result, and call .show() on the result to calculate the mean age."
   ]
  },
  {
   "cell_type": "code",
   "execution_count": 8,
   "metadata": {},
   "outputs": [],
   "source": [
    "# # Print the type of athlete_events_spark\n",
    "# print(type(athlete_events_spark))\n",
    "\n",
    "# # Print the schema of athlete_events_spark\n",
    "# print(athlete_events_spark.printSchema())\n",
    "\n",
    "# # Group by the Year, and find the mean Age\n",
    "# print(athlete_events_spark.groupBy('Year').mean('Age'))\n",
    "\n",
    "# # Group by the Year, and find the mean Age\n",
    "# print(athlete_events_spark.groupBy('Year').mean('Age').show())"
   ]
  },
  {
   "cell_type": "markdown",
   "metadata": {},
   "source": [
    "A PySpark file :\n",
    "```\n",
    "from pyspark.sql import SparkSession\n",
    "\n",
    "\n",
    "if __name__ == \"__main__\":\n",
    "    spark = SparkSession.builder.getOrCreate()\n",
    "    athlete_events_spark = (spark\n",
    "        .read\n",
    "        .csv(\"/home/repl/datasets/athlete_events.csv\",\n",
    "             header=True,\n",
    "             inferSchema=True,\n",
    "             escape='\"'))\n",
    "\n",
    "    athlete_events_spark = (athlete_events_spark\n",
    "        .withColumn(\"Height\",\n",
    "                    athlete_events_spark.Height.cast(\"integer\")))\n",
    "\n",
    "    print(athlete_events_spark\n",
    "        .groupBy('Year')\n",
    "        .mean('Height')\n",
    "        .orderBy('Year')\n",
    "        .show())\n",
    "```\n",
    "\n",
    "You can submit this file. You can use spark-submit as follows:\n",
    "```\n",
    "spark-submit \\\n",
    "  --master local[4] \\\n",
    "  /home/repl/spark-script.py\n",
    "```\n",
    "\n",
    "Gives A DataFrame with average Olympian heights by year as result"
   ]
  },
  {
   "cell_type": "markdown",
   "metadata": {},
   "source": [
    "There's a lot of useful features in Airflow, but can you select the feature from the list below which is also provided by cron?\n",
    "- You have exact control over the time at which jobs run."
   ]
  },
  {
   "cell_type": "markdown",
   "metadata": {},
   "source": [
    "- First, the DAG needs to run on every hour at minute 0. Fill in the schedule_interval keyword argument using the crontab notation. For example, every hour at minute N would be N * * * *. Remember, you need to run at minute 0.\n",
    "- The downstream flow should match what you can see in the image above. The first step has already been filled in for you."
   ]
  },
  {
   "cell_type": "code",
   "execution_count": 9,
   "metadata": {},
   "outputs": [],
   "source": [
    "# # Create the DAG object\n",
    "# dag = DAG(dag_id=\"car_factory_simulation\",\n",
    "#           default_args={\"owner\": \"airflow\",\"start_date\": airflow.utils.dates.days_ago(2)},\n",
    "#           schedule_interval=\"0 * * * *\")\n",
    "\n",
    "# # Task definitions\n",
    "# assemble_frame = BashOperator(task_id=\"assemble_frame\", bash_command='echo \"Assembling frame\"', dag=dag)\n",
    "# place_tires = BashOperator(task_id=\"place_tires\", bash_command='echo \"Placing tires\"', dag=dag)\n",
    "# assemble_body = BashOperator(task_id=\"assemble_body\", bash_command='echo \"Assembling body\"', dag=dag)\n",
    "# apply_paint = BashOperator(task_id=\"apply_paint\", bash_command='echo \"Applying paint\"', dag=dag)\n",
    "\n",
    "# # Complete the downstream flow\n",
    "# assemble_frame.set_downstream(place_tires)\n",
    "# assemble_frame.set_downstream(assemble_body)\n",
    "# assemble_body.set_downstream(apply_paint)"
   ]
  }
 ],
 "metadata": {
  "interpreter": {
   "hash": "1e949e87132dd83f1a7623eb88007e3532b03b66b77111be347aa4a383049722"
  },
  "kernelspec": {
   "display_name": "Python 3.8.11 ('env_py')",
   "language": "python",
   "name": "python3"
  },
  "language_info": {
   "codemirror_mode": {
    "name": "ipython",
    "version": 3
   },
   "file_extension": ".py",
   "mimetype": "text/x-python",
   "name": "python",
   "nbconvert_exporter": "python",
   "pygments_lexer": "ipython3",
   "version": "3.8.11"
  },
  "orig_nbformat": 4
 },
 "nbformat": 4,
 "nbformat_minor": 2
}
